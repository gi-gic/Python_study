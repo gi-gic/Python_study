{
 "cells": [
  {
   "cell_type": "markdown",
   "id": "a2baee4e",
   "metadata": {},
   "source": [
    "#### 더하기 함수"
   ]
  },
  {
   "cell_type": "code",
   "execution_count": 1,
   "id": "7fefd5ad",
   "metadata": {
    "ExecuteTime": {
     "end_time": "2022-12-06T05:26:00.687674Z",
     "start_time": "2022-12-06T05:26:00.672058Z"
    }
   },
   "outputs": [],
   "source": [
    "def add(num1, num2):\n",
    "    return num1 + num2"
   ]
  },
  {
   "cell_type": "markdown",
   "id": "8322b5be",
   "metadata": {},
   "source": [
    "#### 빼기 함수"
   ]
  },
  {
   "cell_type": "code",
   "execution_count": 2,
   "id": "5a012721",
   "metadata": {
    "ExecuteTime": {
     "end_time": "2022-12-06T05:26:41.098034Z",
     "start_time": "2022-12-06T05:26:41.095106Z"
    }
   },
   "outputs": [],
   "source": [
    "def sub(num1, num2):\n",
    "    return num1 - num2"
   ]
  },
  {
   "cell_type": "markdown",
   "id": "2b73c2d4",
   "metadata": {},
   "source": [
    "#### 곱하기 함수"
   ]
  },
  {
   "cell_type": "code",
   "execution_count": 3,
   "id": "82b2293e",
   "metadata": {
    "ExecuteTime": {
     "end_time": "2022-12-06T05:27:11.794446Z",
     "start_time": "2022-12-06T05:27:11.790573Z"
    }
   },
   "outputs": [],
   "source": [
    "def mul(num1, num2):\n",
    "    return num1 * num2"
   ]
  },
  {
   "cell_type": "markdown",
   "id": "5ed25872",
   "metadata": {},
   "source": [
    "#### 나누기 함수"
   ]
  },
  {
   "cell_type": "code",
   "execution_count": 4,
   "id": "f9d605d7",
   "metadata": {
    "ExecuteTime": {
     "end_time": "2022-12-06T05:27:34.553701Z",
     "start_time": "2022-12-06T05:27:34.549824Z"
    }
   },
   "outputs": [],
   "source": [
    "def div(num1, num2):\n",
    "    return num1 / num2"
   ]
  },
  {
   "cell_type": "code",
   "execution_count": null,
   "id": "3c52f725",
   "metadata": {},
   "outputs": [],
   "source": []
  },
  {
   "cell_type": "code",
   "execution_count": null,
   "id": "fe7509e6",
   "metadata": {},
   "outputs": [],
   "source": []
  },
  {
   "cell_type": "code",
   "execution_count": null,
   "id": "bd224926",
   "metadata": {},
   "outputs": [],
   "source": []
  },
  {
   "cell_type": "code",
   "execution_count": null,
   "id": "14504337",
   "metadata": {},
   "outputs": [],
   "source": []
  },
  {
   "cell_type": "code",
   "execution_count": null,
   "id": "26b1d604",
   "metadata": {},
   "outputs": [],
   "source": []
  },
  {
   "cell_type": "code",
   "execution_count": null,
   "id": "f8a0608e",
   "metadata": {},
   "outputs": [],
   "source": []
  }
 ],
 "metadata": {
  "kernelspec": {
   "display_name": "Python 3 (ipykernel)",
   "language": "python",
   "name": "python3"
  },
  "language_info": {
   "codemirror_mode": {
    "name": "ipython",
    "version": 3
   },
   "file_extension": ".py",
   "mimetype": "text/x-python",
   "name": "python",
   "nbconvert_exporter": "python",
   "pygments_lexer": "ipython3",
   "version": "3.10.9"
  },
  "toc": {
   "base_numbering": 1,
   "nav_menu": {},
   "number_sections": true,
   "sideBar": true,
   "skip_h1_title": false,
   "title_cell": "Table of Contents",
   "title_sidebar": "Contents",
   "toc_cell": false,
   "toc_position": {},
   "toc_section_display": true,
   "toc_window_display": false
  }
 },
 "nbformat": 4,
 "nbformat_minor": 5
}
